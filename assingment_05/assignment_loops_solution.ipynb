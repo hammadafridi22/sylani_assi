{
 "cells": [
  {
   "cell_type": "markdown",
   "id": "1f948bc8",
   "metadata": {},
   "source": [
    "# Python Assignment: Loops"
   ]
  },
  {
   "cell_type": "code",
   "execution_count": null,
   "id": "725572b5",
   "metadata": {},
   "outputs": [],
   "source": [
    "\n",
    "# 1. Write a Python program to print the numbers from 1 to 10 using a for loop.\n",
    "for i in range(1, 11):\n",
    "    print(i)\n",
    "        "
   ]
  },
  {
   "cell_type": "code",
   "execution_count": null,
   "id": "7d940ef5",
   "metadata": {},
   "outputs": [],
   "source": [
    "\n",
    "# 2. Write a Python program to print the numbers from 20 to 1 using a while loop.\n",
    "n = 20\n",
    "while n >= 1:\n",
    "    print(n)\n",
    "    n -= 1\n",
    "        "
   ]
  },
  {
   "cell_type": "code",
   "execution_count": null,
   "id": "fea205d8",
   "metadata": {},
   "outputs": [],
   "source": [
    "\n",
    "# 3. Write a program to print even numbers from 1 to 10.\n",
    "for i in range(1, 11):\n",
    "    if i % 2 == 0:\n",
    "        print(i)\n",
    "        "
   ]
  },
  {
   "cell_type": "code",
   "execution_count": null,
   "id": "124affb2",
   "metadata": {},
   "outputs": [],
   "source": [
    "\n",
    "# 4. Write a program that prompts the user to enter a number n and prints all the numbers from 1 to n.\n",
    "n = int(input(\"Enter a number: \"))\n",
    "for i in range(1, n+1):\n",
    "    print(i)\n",
    "        "
   ]
  },
  {
   "cell_type": "code",
   "execution_count": null,
   "id": "2a1626c5",
   "metadata": {},
   "outputs": [],
   "source": [
    "\n",
    "# 5. Write a program that prompts the user to enter a number n, and then prints all the odd numbers between 1 and n.\n",
    "n = int(input(\"Enter a number: \"))\n",
    "for i in range(1, n+1, 2):\n",
    "    print(i)\n",
    "        "
   ]
  },
  {
   "cell_type": "code",
   "execution_count": null,
   "id": "56695e8b",
   "metadata": {},
   "outputs": [],
   "source": [
    "\n",
    "# 6. Write a program that prints 'Happy Birthday!' five times on screen.\n",
    "for _ in range(5):\n",
    "    print(\"Happy Birthday!\")\n",
    "        "
   ]
  },
  {
   "cell_type": "code",
   "execution_count": null,
   "id": "09fc62b0",
   "metadata": {},
   "outputs": [],
   "source": [
    "\n",
    "# 7. Write a program that takes a number n as input from the user and generates the first n terms of the series formed by squaring the natural numbers.\n",
    "n = int(input(\"Enter a number: \"))\n",
    "print(\"The first\", n, \"terms of the series are:\")\n",
    "for i in range(1, n+1):\n",
    "    print(i**2, end=\" \")\n",
    "        "
   ]
  },
  {
   "cell_type": "code",
   "execution_count": null,
   "id": "92a6fead",
   "metadata": {},
   "outputs": [],
   "source": [
    "\n",
    "# 8. Write a program that prompts the user to input a number and prints its multiplication table.\n",
    "n = int(input(\"Enter a number: \"))\n",
    "for i in range(1, 11):\n",
    "    print(f\"{n} x {i} = {n*i}\")\n",
    "        "
   ]
  },
  {
   "cell_type": "code",
   "execution_count": null,
   "id": "fe54ad9b",
   "metadata": {},
   "outputs": [],
   "source": [
    "\n",
    "# 9. Write a Python program to print the first 8 terms of an arithmetic progression starting with 3 and having a common difference of 4.\n",
    "a = 3\n",
    "d = 4\n",
    "for i in range(8):\n",
    "    print(a + i * d, end=\" \")\n",
    "        "
   ]
  },
  {
   "cell_type": "code",
   "execution_count": null,
   "id": "7cbe1301",
   "metadata": {},
   "outputs": [],
   "source": [
    "\n",
    "# 10. Write a Python program to print the first 6 terms of a geometric sequence starting with 2 and having a common ratio of 3.\n",
    "a = 2\n",
    "r = 3\n",
    "for i in range(6):\n",
    "    print(a * (r ** i), end=\" \")\n",
    "        "
   ]
  },
  {
   "cell_type": "code",
   "execution_count": null,
   "id": "8dc3cfa3",
   "metadata": {},
   "outputs": [],
   "source": [
    "\n",
    "# 11. Write a program that asks the user for a positive integer value. The program should calculate the sum of all the integers from 1 up to the number entered.\n",
    "n = int(input(\"Enter a positive integer: \"))\n",
    "sum_integers = sum(range(1, n+1))\n",
    "print(f\"The sum of integers from 1 to {n} is: {sum_integers}\")\n",
    "        "
   ]
  },
  {
   "cell_type": "code",
   "execution_count": null,
   "id": "eab64376",
   "metadata": {},
   "outputs": [],
   "source": [
    "\n",
    "# 12. Write a program that takes a positive integer N as input and calculates the sum of the reciprocals of all numbers from 1 up to N.\n",
    "n = int(input(\"Enter a positive integer: \"))\n",
    "sum_reciprocals = sum(1/i for i in range(1, n+1))\n",
    "print(f\"The sum of reciprocals from 1 to {n} is: {sum_reciprocals:.2f}\")\n",
    "        "
   ]
  },
  {
   "cell_type": "code",
   "execution_count": null,
   "id": "1e17374e",
   "metadata": {},
   "outputs": [],
   "source": [
    "\n",
    "# 13. Write a program that prompts the user to enter a number and repeats this process 5 times. The program should accumulate the numbers entered and then display the final running total.\n",
    "total = 0\n",
    "for _ in range(5):\n",
    "    num = int(input(\"Enter a number: \"))\n",
    "    total += num\n",
    "print(f\"The final running total is: {total}\")\n",
    "        "
   ]
  },
  {
   "cell_type": "code",
   "execution_count": null,
   "id": "a879ff46",
   "metadata": {},
   "outputs": [],
   "source": [
    "\n",
    "# 14. Write a program that prompts the user to enter a positive integer and calculates its factorial.\n",
    "n = int(input(\"Enter a positive integer: \"))\n",
    "if n < 0:\n",
    "    print(\"Factorial does not exist for negative numbers.\")\n",
    "elif n == 0:\n",
    "    print(\"The factorial of 0 is 1.\")\n",
    "else:\n",
    "    factorial = 1\n",
    "    for i in range(1, n + 1):\n",
    "        factorial *= i\n",
    "    print(f\"The factorial of {n} is: {factorial}\")\n",
    "        "
   ]
  },
  {
   "cell_type": "code",
   "execution_count": null,
   "id": "8efd65a2",
   "metadata": {},
   "outputs": [],
   "source": [
    "\n",
    "# 15. Write a Python program that prompts the user to enter a base number and an exponent, and then calculates the power of the base to the exponent.\n",
    "base = int(input(\"Enter the base number: \"))\n",
    "exponent = int(input(\"Enter the exponent: \"))\n",
    "power = 1\n",
    "for _ in range(abs(exponent)):\n",
    "    power *= base\n",
    "if exponent < 0:\n",
    "    power = 1 / power\n",
    "print(f\"{base} raised to the power {exponent} is: {power}\")\n",
    "        "
   ]
  }
 ],
 "metadata": {},
 "nbformat": 4,
 "nbformat_minor": 5
}

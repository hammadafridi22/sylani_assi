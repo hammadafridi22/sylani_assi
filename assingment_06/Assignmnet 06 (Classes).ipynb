{
  "cells": [
    {
      "cell_type": "markdown",
      "metadata": {
        "id": "XLFr4w_7OFN7"
      },
      "source": [
        "1. Write a Python program to create a class representing a Circle. Include methods to calculate its area and perimeter."
      ]
    },
    {
      "cell_type": "code",
      "execution_count": 21,
      "metadata": {},
      "outputs": [],
      "source": [
        "class Circle:\n",
        "    PI = 3.142\n",
        "    def __init__(self):\n",
        "        pass\n",
        "\n",
        "    def user_input(self):\n",
        "        height = float(input('Enter Area!!.. '))\n",
        "        width = float(input('Enter Width!!.. '))\n",
        "        area = height * width\n",
        "        # print(area)\n",
        "        return area\n",
        "\n",
        "\n",
        "    def perimeter(self):\n",
        "        \n",
        "        radius = float(input('Enter Radius'))\n",
        "        circle_peri = 2 * self.PI * radius\n",
        "        return circle_peri\n",
        "\n"
      ]
    },
    {
      "cell_type": "code",
      "execution_count": 22,
      "metadata": {},
      "outputs": [],
      "source": [
        "cr_obj = Circle()"
      ]
    },
    {
      "cell_type": "code",
      "execution_count": 23,
      "metadata": {},
      "outputs": [
        {
          "data": {
            "text/plain": [
              "13.1964"
            ]
          },
          "execution_count": 23,
          "metadata": {},
          "output_type": "execute_result"
        }
      ],
      "source": [
        "# cr_obj.user_input()\n",
        "cr_obj.perimeter()"
      ]
    },
    {
      "cell_type": "markdown",
      "metadata": {
        "id": "CBPk4mH4OTCO"
      },
      "source": [
        "2. Write a Python program to create a person class. Include attributes like name, country and date of birth. Implement a method to determine the person's age.\n"
      ]
    },
    {
      "cell_type": "code",
      "execution_count": null,
      "metadata": {},
      "outputs": [],
      "source": [
        "from datetime import datetime\n",
        "\n",
        "class Person:\n",
        "    def __init__(self, name, country, date_of_birth):\n",
        "        self.name = name\n",
        "        self.country = country\n",
        "        # date_of_birth should be a string in the format 'YYYY-MM-DD'\n",
        "        self.date_of_birth = datetime.strptime(date_of_birth, '%Y-%m-%d')\n",
        "    \n",
        "    def calculate_age(self):\n",
        "        # Get the current date\n",
        "        today = datetime.today()\n",
        "        \n",
        "        # Calculate age by subtracting birth year from current year\n",
        "        age = today.year - self.date_of_birth.year\n",
        "        \n",
        "        # Adjust if birthday hasn't occurred yet this year\n",
        "        if today.month < self.date_of_birth.month or (today.month == self.date_of_birth.month and today.day < self.date_of_birth.day):\n",
        "            age -= 1\n",
        "        \n",
        "        return age\n",
        "    \n",
        "    def __str__(self):\n",
        "        return f\"Name: {self.name}, Country: {self.country}, Date of Birth: {self.date_of_birth.strftime('%Y-%m-%d')}\"\n",
        "\n",
        "\n",
        "person = Person(\"John Doe\", \"USA\", \"1990-05-15\")\n",
        "print(person)  \n",
        "print(f\"Age: {person.calculate_age()} years old\")  "
      ]
    },
    {
      "cell_type": "markdown",
      "metadata": {},
      "source": [
        "3. Write a Python program to create a calculator class. Include methods for basic arithmetic operations."
      ]
    },
    {
      "cell_type": "code",
      "execution_count": null,
      "metadata": {},
      "outputs": [],
      "source": [
        "class Calculator:\n",
        "    def __init__(self):\n",
        "        pass\n",
        "    \n",
        "    def add(self, a, b):\n",
        "        return a + b\n",
        "    \n",
        "    def subtract(self, a, b):\n",
        "        return a - b\n",
        "    \n",
        "    def multiply(self, a, b):\n",
        "        return a * b\n",
        "    \n",
        "    def divide(self, a, b):\n",
        "        # Check if b is not zero to avoid division by zero error\n",
        "        if b != 0:\n",
        "            return a / b\n",
        "        else:\n",
        "            return \"Error: Division by zero is not allowed\"\n",
        "    \n",
        "    def __str__(self):\n",
        "        return \"Basic Calculator - Add, Subtract, Multiply, Divide\"\n",
        "\n",
        "# Example usage\n",
        "calc = Calculator()\n",
        "\n",
        "# Performing arithmetic operations\n",
        "num1 = 10\n",
        "num2 = 5\n",
        "\n",
        "print(f\"Addition: {calc.add(num1, num2)}\")\n",
        "print(f\"Subtraction: {calc.subtract(num1, num2)}\")\n",
        "print(f\"Multiplication: {calc.multiply(num1, num2)}\")\n",
        "print(f\"Division: {calc.divide(num1, num2)}\")\n",
        "\n",
        "# Division by zero example\n",
        "print(f\"Division by Zero: {calc.divide(num1, 0)}\")"
      ]
    },
    {
      "cell_type": "code",
      "execution_count": null,
      "metadata": {},
      "outputs": [],
      "source": []
    }
  ],
  "metadata": {
    "colab": {
      "provenance": []
    },
    "kernelspec": {
      "display_name": "Python 3",
      "name": "python3"
    },
    "language_info": {
      "codemirror_mode": {
        "name": "ipython",
        "version": 3
      },
      "file_extension": ".py",
      "mimetype": "text/x-python",
      "name": "python",
      "nbconvert_exporter": "python",
      "pygments_lexer": "ipython3",
      "version": "3.11.9"
    }
  },
  "nbformat": 4,
  "nbformat_minor": 0
}

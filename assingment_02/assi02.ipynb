{
 "cells": [
  {
   "cell_type": "code",
   "execution_count": null,
   "id": "92199ca2",
   "metadata": {},
   "outputs": [],
   "source": [
    "# Q1: Check if the number is positive, negative, or zero\n",
    "num = int(input(\"Enter a number: \"))\n",
    "if num > 0:\n",
    "    print(\"Positive\")\n",
    "elif num < 0:\n",
    "    print(\"Negative\")\n",
    "else:\n",
    "    print(\"Zero\")"
   ]
  },
  {
   "cell_type": "code",
   "execution_count": null,
   "id": "6cc86500",
   "metadata": {},
   "outputs": [],
   "source": [
    "\n",
    "# Q2: Find the largest of three numbers\n",
    "a, b, c = map(int, input(\"Enter three numbers separated by space: \").split())\n",
    "if a >= b and a >= c:\n",
    "    print(f\"{a} is the largest.\")\n",
    "elif b >= a and b >= c:\n",
    "    print(f\"{b} is the largest.\")\n",
    "else:\n",
    "    print(f\"{c} is the largest.\")"
   ]
  },
  {
   "cell_type": "code",
   "execution_count": null,
   "id": "b65fd025",
   "metadata": {},
   "outputs": [],
   "source": [
    "\n",
    "# Q3: Program to check if the number is even or odd\n",
    "num = int(input(\"Enter a number: \"))\n",
    "if num % 2 == 0:\n",
    "    print(f\"{num} is even.\")\n",
    "else:\n",
    "    print(f\"{num} is odd.\")"
   ]
  },
  {
   "cell_type": "code",
   "execution_count": null,
   "id": "1413c0f3",
   "metadata": {},
   "outputs": [],
   "source": [
    "# Q4: Check if the year is a leap year (revisited)\n",
    "year = int(input(\"Enter a year: \"))\n",
    "if (year % 4 == 0 and year % 100 != 0) or (year % 400 == 0):\n",
    "    print(f\"{year} is a leap year.\")\n",
    "else:\n",
    "    print(f\"{year} is not a leap year.\")"
   ]
  },
  {
   "cell_type": "code",
   "execution_count": null,
   "id": "94992f3d",
   "metadata": {},
   "outputs": [],
   "source": [
    "\n",
    "# Q5: Find the largest of two numbers\n",
    "a, b = map(int, input(\"Enter two numbers separated by space: \").split())\n",
    "if a > b:\n",
    "    print(f\"{a} is the largest.\")\n",
    "else:\n",
    "    print(f\"{b} is the largest.\")"
   ]
  },
  {
   "cell_type": "code",
   "execution_count": null,
   "id": "48c92641",
   "metadata": {},
   "outputs": [],
   "source": [
    "# Q6: Check if the number is divisible by 5 and 7\n",
    "num = int(input(\"Enter a number: \"))\n",
    "if num % 5 == 0 and num % 7 == 0:\n",
    "    print(f\"{num} is divisible by both 5 and 7.\")\n",
    "else:\n",
    "    print(f\"{num} is not divisible by both 5 and 7.\")"
   ]
  },
  {
   "cell_type": "code",
   "execution_count": null,
   "id": "b050f31c",
   "metadata": {},
   "outputs": [],
   "source": [
    "# Q7: Program to find the grade based on marks\n",
    "marks = float(input(\"Enter marks (0-100): \"))\n",
    "if marks >= 90:\n",
    "    grade = 'A'\n",
    "elif marks >= 80:\n",
    "    grade = 'B'\n",
    "elif marks >= 70:\n",
    "    grade = 'C'\n",
    "elif marks >= 60:\n",
    "    grade = 'D'\n",
    "else:\n",
    "    grade = 'F'\n",
    "print(f\"Your grade is {grade}\")\n",
    "\n"
   ]
  },
  {
   "cell_type": "code",
   "execution_count": null,
   "id": "a79467a8",
   "metadata": {},
   "outputs": [],
   "source": [
    "# Q8: Check if a number is prime or not\n",
    "num = int(input(\"Enter a number: \"))\n",
    "is_prime = True\n",
    "if num > 1:\n",
    "    for i in range(2, num):\n",
    "        if num % i == 0:\n",
    "            is_prime = False\n",
    "            break\n",
    "    if is_prime:\n",
    "        print(f\"{num} is a prime number.\")\n",
    "    else:\n",
    "        print(f\"{num} is not a prime number.\")\n",
    "else:\n",
    "    print(f\"{num} is not a prime number.\")\n",
    "\n"
   ]
  },
  {
   "cell_type": "code",
   "execution_count": null,
   "id": "ebe52361",
   "metadata": {},
   "outputs": [],
   "source": [
    "# Q9: Check if a number is divisible by 3, 5, or both\n",
    "num = int(input(\"Enter a number: \"))\n",
    "if num % 3 == 0 and num % 5 == 0:\n",
    "    print(f\"{num} is divisible by both 3 and 5.\")\n",
    "elif num % 3 == 0:\n",
    "    print(f\"{num} is divisible by 3.\")\n",
    "elif num % 5 == 0:\n",
    "    print(f\"{num} is divisible by 5.\")\n",
    "else:\n",
    "    print(f\"{num} is not divisible by 3 or 5.\")\n",
    "\n"
   ]
  },
  {
   "cell_type": "code",
   "execution_count": null,
   "id": "8369f3e8",
   "metadata": {},
   "outputs": [],
   "source": [
    "# Q10: Check if a number is an Armstrong number\n",
    "num = int(input(\"Enter a number: \"))\n",
    "sum_of_digits = sum(int(digit) ** len(str(num)) for digit in str(num))\n",
    "if sum_of_digits == num:\n",
    "    print(f\"{num} is an Armstrong number.\")\n",
    "else:\n",
    "    print(f\"{num} is not an Armstrong number.\")\n"
   ]
  }
 ],
 "metadata": {
  "language_info": {
   "name": "python"
  }
 },
 "nbformat": 4,
 "nbformat_minor": 5
}

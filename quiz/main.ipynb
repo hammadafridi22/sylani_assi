{
 "cells": [
  {
   "cell_type": "markdown",
   "id": "c48769e1",
   "metadata": {},
   "source": [
    "Scenario 1: File Processing and Exception Handling\n",
    "You are tasked with creating a program to manage student records. The program should read data\n",
    "from a text file containing student names and their corresponding grades (each student's name and\n",
    "grade separated by a comma). After reading the data, the program should calculate the average\n",
    "grade and display it to the user. However, the program should handle potential errors gracefully.\n",
    "Tasks:\n",
    "1. Create a Python program that reads student records from a text file.\n",
    "2. Implement exception handling to catch file not found errors and handle them appropriately.\n",
    "3. Calculate the average grade of the students and display it to the user.\n",
    "4. If any student's grade is not a valid numerical value, raise a custom exception and handle it\n",
    "by displaying an error message.\n",
    "student_records.txt\n",
    "Alice, 85\n",
    "Bob, 90\n",
    "Charlie, 75\n",
    "Dave, 82\n",
    "Eve, 95\n",
    "Frank, 78\n",
    "Grace, Invalid Grade\n"
   ]
  },
  {
   "cell_type": "markdown",
   "id": "a7c2a1fb",
   "metadata": {},
   "source": [
    "student_records.txt \n",
    "Alice, 85 \n",
    "Bob, 90 \n",
    "Charlie, 75 \n",
    "Dave, 82 \n",
    "Eve, 95 \n",
    "Frank, 78 \n",
    "Grace, Invalid Grade "
   ]
  },
  {
   "cell_type": "code",
   "execution_count": 2,
   "id": "6a98e164",
   "metadata": {},
   "outputs": [],
   "source": [
    "with open('student_records.txt','w') as f:\n",
    "    f.write('Alice, 85 \\n Bob, 90 \\nCharlie, 75 \\n Dave, 82 \\n Eve, 95 \\n Frank, 78 ') #override the previous content"
   ]
  },
  {
   "cell_type": "code",
   "execution_count": null,
   "id": "66e674be",
   "metadata": {},
   "outputs": [
    {
     "name": "stdout",
     "output_type": "stream",
     "text": [
      "Alice, 85 \n",
      " Bob, 90 \n",
      "Charlie, 75 \n",
      " Dave, 82 \n",
      " Eve, 95 \n",
      " Frank, 78 \n"
     ]
    }
   ],
   "source": [
    "try:\n",
    "    with open('student_records.txt','r') as f:\n",
    "        file_content = f.read()\n",
    "        print(file_content)\n",
    "except Exception as e:\n",
    "    print(f\"An unexpected error occurred: {e}\")"
   ]
  },
  {
   "cell_type": "code",
   "execution_count": null,
   "id": "f7078e23",
   "metadata": {},
   "outputs": [
    {
     "name": "stdout",
     "output_type": "stream",
     "text": [
      "Average Grade: 84.16666666666667\n"
     ]
    }
   ],
   "source": [
    "class InvalidGradeError(Exception):\n",
    "    \"\"\"Custom exception for invalid grades.\"\"\"\n",
    "    pass\n",
    "\n",
    "def read_student_records(file_name):\n",
    "    try:\n",
    "        with open('student_records.txt', \"r\") as file:\n",
    "            students = []\n",
    "            for line in file:\n",
    "                try:\n",
    "                    name, grade_str = line.strip().split(\",\")\n",
    "                    grade_str = grade_str.strip()\n",
    "                    if not grade_str.isdigit():\n",
    "                        raise InvalidGradeError(f\"Invalid grade for {name}: {grade_str}\")\n",
    "                    students.append((name.strip(), int(grade_str)))\n",
    "                except InvalidGradeError as e:\n",
    "                    print(e)\n",
    "            return students\n",
    "    except FileNotFoundError:\n",
    "        print(\"Error: File not found.\")\n",
    "        return []\n",
    "\n",
    "def calculate_average(students):\n",
    "    if not students:\n",
    "        return 0\n",
    "    total = sum(grade for _, grade in students)\n",
    "    return total / len(students)\n",
    "\n",
    "\n",
    "students = read_student_records(\"student_records.txt\")\n",
    "avg = calculate_average(students)\n",
    "print(\"Average Grade:\", avg)"
   ]
  },
  {
   "cell_type": "code",
   "execution_count": 16,
   "id": "b1f54e74",
   "metadata": {},
   "outputs": [],
   "source": [
    "class Vehicle:\n",
    "    def __init__(self, make, model, year):\n",
    "        self.make = make\n",
    "        self.model = model\n",
    "        self.year = year\n",
    "\n",
    "    def display_info(self):\n",
    "        return f\"{self.year} {self.make} {self.model}\"\n",
    "\n",
    "    def start_engine(self):\n",
    "        return f\"{self.make} {self.model} engine started.\"\n",
    "\n"
   ]
  },
  {
   "cell_type": "code",
   "execution_count": 17,
   "id": "f9678e1f",
   "metadata": {},
   "outputs": [],
   "source": [
    "veh_method = Vehicle('Lambo','6627-f1','2015')\n"
   ]
  },
  {
   "cell_type": "code",
   "execution_count": 24,
   "id": "5d691456",
   "metadata": {},
   "outputs": [],
   "source": [
    "class Car(Vehicle):\n",
    "    def __init__(self, make, model, year, doors):\n",
    "        super().__init__(make, model, year)\n",
    "        self.doors = doors\n",
    "\n",
    "    def display_info(self):\n",
    "        return super().display_info() + f\", Doors: {self.doors}\"\n",
    "\n"
   ]
  },
  {
   "cell_type": "code",
   "execution_count": 28,
   "id": "253eaa21",
   "metadata": {},
   "outputs": [],
   "source": [
    "class Truck(Vehicle):\n",
    "    def __init__(self, make, model, year, capacity):\n",
    "        super().__init__(make, model, year)\n",
    "        self.capacity = capacity\n",
    "\n",
    "    def display_info(self):\n",
    "        return super().display_info() + f\", Capacity: {self.capacity} tons\"\n"
   ]
  },
  {
   "cell_type": "code",
   "execution_count": 26,
   "id": "c449ce00",
   "metadata": {},
   "outputs": [],
   "source": [
    "class Motorcycle(Vehicle):\n",
    "    def __init__(self, make, model, year, type_of_drive):\n",
    "        super().__init__(make, model, year)\n",
    "        self.type_of_drive = type_of_drive\n",
    "\n",
    "    def display_info(self):\n",
    "        return super().display_info() + f\", Drive: {self.type_of_drive}\"\n"
   ]
  },
  {
   "cell_type": "code",
   "execution_count": 29,
   "id": "fcb0aeac",
   "metadata": {},
   "outputs": [
    {
     "name": "stdout",
     "output_type": "stream",
     "text": [
      "2021 Toyota Corolla, Doors: 4\n",
      "2019 Ford F-150, Capacity: 3 tons\n",
      "2022 Yamaha R15, Drive: Chain Drive\n"
     ]
    }
   ],
   "source": [
    "# Example Run\n",
    "car = Car(\"Toyota\", \"Corolla\", 2021, 4)\n",
    "truck = Truck(\"Ford\", \"F-150\", 2019, 3)\n",
    "bike = Motorcycle(\"Yamaha\", \"R15\", 2022, \"Chain Drive\")\n",
    "\n",
    "print(car.display_info())\n",
    "print(truck.display_info())\n",
    "print(bike.display_info())"
   ]
  },
  {
   "cell_type": "code",
   "execution_count": 53,
   "id": "4600f105",
   "metadata": {},
   "outputs": [],
   "source": [
    "\n",
    "inventory = {}  # book_name: quantity\n",
    "\n",
    "def add_book(title, quantity=1):\n",
    "    \"\"\"Add a book to the inventory.\"\"\"\n",
    "    if title in inventory:\n",
    "        inventory[title] += quantity\n",
    "    else:\n",
    "        inventory[title] = quantity\n",
    "    print(f\"Added '{title}' ({quantity}) to inventory.\")\n",
    "\n",
    "def remove_book(title):\n",
    "    \"\"\"Remove a book completely from the inventory.\"\"\"\n",
    "    if title in inventory:\n",
    "        del inventory[title]\n",
    "        print(f\"Removed '{title}' from inventory.\")\n",
    "    else:\n",
    "        print(f\"'{title}' not found in inventory.\")\n",
    "\n",
    "def display_inventory():\n",
    "    \"\"\"Display the current inventory.\"\"\"\n",
    "    if not inventory:\n",
    "        print(\"Inventory is empty.\")\n",
    "    else:\n",
    "        print(\"\\n Current Inventory:\")\n",
    "        for title, qty in inventory.items():\n",
    "            print(f\" - {title}: {qty} copies\")\n",
    "    print()\n"
   ]
  },
  {
   "cell_type": "code",
   "execution_count": 55,
   "id": "49c67b92",
   "metadata": {},
   "outputs": [],
   "source": [
    "\n",
    "\n",
    "borrowed_books = {}  # book_name: days_borrowed\n",
    "\n",
    "def borrow_book(title, days_borrowed):\n",
    "    \"\"\"Borrow a book if available.\"\"\"\n",
    "    if title in inventory and inventory[title] > 0:\n",
    "        inventory[title] -= 1\n",
    "        borrowed_books[title] = days_borrowed\n",
    "        print(f\"'{title}' borrowed for {days_borrowed} days.\")\n",
    "    else:\n",
    "        print(f\"'{title}' is not available to borrow.\")\n",
    "\n",
    "def return_book(title, days_late=0):\n",
    "    \"\"\"Return a borrowed book.\"\"\"\n",
    "    if title in borrowed_books:\n",
    "        inventory[title] = inventory.get(title, 0) + 1\n",
    "        del borrowed_books[title]\n",
    "        print(f\"'{title}' returned successfully.\")\n",
    "        if days_late > 0:\n",
    "            fine = calculate_fine(days_late)\n",
    "            print(f\"Late by {days_late} days. Fine: Rs. {fine:.2f}\")\n",
    "    else:\n",
    "        print(f\"'{title}' was not borrowed.\")\n",
    "\n",
    "def check_availability(title):\n",
    "    \"\"\"Check if a book is available.\"\"\"\n",
    "    return inventory.get(title, 0) > 0\n"
   ]
  },
  {
   "cell_type": "code",
   "execution_count": 51,
   "id": "190f04e8",
   "metadata": {},
   "outputs": [],
   "source": [
    "import math\n",
    "\n",
    "def calculate_fine(days_late):\n",
    "    \"\"\"Fine = sqrt(days_late) * 10\"\"\"\n",
    "    return math.sqrt(days_late) * 10\n"
   ]
  },
  {
   "cell_type": "code",
   "execution_count": 56,
   "id": "23e373c5",
   "metadata": {},
   "outputs": [
    {
     "name": "stdout",
     "output_type": "stream",
     "text": [
      "Added 'Python Programming' (3) to inventory.\n",
      "Added 'Data Science Essentials' (2) to inventory.\n",
      "Added 'Machine Learning Guide' (1) to inventory.\n",
      "\n",
      " Current Inventory:\n",
      " - Python Programming: 3 copies\n",
      " - Data Science Essentials: 2 copies\n",
      " - Machine Learning Guide: 1 copies\n",
      "\n",
      "'Python Programming' borrowed for 7 days.\n",
      "'Machine Learning Guide' borrowed for 5 days.\n",
      "\n",
      " Current Inventory:\n",
      " - Python Programming: 2 copies\n",
      " - Data Science Essentials: 2 copies\n",
      " - Machine Learning Guide: 0 copies\n",
      "\n",
      "'Python Programming' returned successfully.\n",
      "Late by 3 days. Fine: Rs. 17.32\n",
      "\n",
      " Current Inventory:\n",
      " - Python Programming: 3 copies\n",
      " - Data Science Essentials: 2 copies\n",
      " - Machine Learning Guide: 0 copies\n",
      "\n",
      "Overdue Books: []\n",
      "\n",
      "Borrowed Books Report:\n",
      "Machine Learning Guide: 5 days borrowed\n"
     ]
    }
   ],
   "source": [
    "from math import ceil\n",
    "\n",
    "\n",
    "add_book(\"Python Programming\", 3)\n",
    "add_book(\"Data Science Essentials\", 2)\n",
    "add_book(\"Machine Learning Guide\", 1)\n",
    "display_inventory()\n",
    "\n",
    "\n",
    "borrow_book(\"Python Programming\", 7)\n",
    "borrow_book(\"Machine Learning Guide\", 5)\n",
    "display_inventory()\n",
    "\n",
    "\n",
    "return_book(\"Python Programming\", days_late=3)\n",
    "display_inventory()\n",
    "\n",
    "\n",
    "overdue_books = list(filter(lambda x: borrowed_books[x] > 6, borrowed_books))\n",
    "print(f\"Overdue Books: {overdue_books}\")\n",
    "\n",
    "\n",
    "borrowed_report = [f\"{book}: {days} days borrowed\" for book, days in borrowed_books.items()]\n",
    "print(\"\\nBorrowed Books Report:\")\n",
    "for report in borrowed_report:\n",
    "    print(report)\n"
   ]
  },
  {
   "cell_type": "code",
   "execution_count": 31,
   "id": "b2515c92",
   "metadata": {},
   "outputs": [
    {
     "name": "stdout",
     "output_type": "stream",
     "text": [
      "Total: 15\n",
      "Product: 120\n",
      "Average: 3.0\n"
     ]
    }
   ],
   "source": [
    "def perform_operations(numbers):\n",
    "    total = 0\n",
    "    product = 1\n",
    "    for num in numbers:\n",
    "        total += num      \n",
    "        product *= num    \n",
    "    average = total / len(numbers)\n",
    "    return total, product, average\n",
    "\n",
    "\n",
    "nums = [1, 2, 3, 4, 5]\n",
    "t, p, a = perform_operations(nums)\n",
    "print(\"Total:\", t)    \n",
    "print(\"Product:\", p)   \n",
    "print(\"Average:\", a)   "
   ]
  },
  {
   "cell_type": "code",
   "execution_count": 33,
   "id": "62033e14",
   "metadata": {},
   "outputs": [
    {
     "name": "stdout",
     "output_type": "stream",
     "text": [
      "he;oo\n"
     ]
    }
   ],
   "source": [
    "print('he;oo')"
   ]
  },
  {
   "cell_type": "code",
   "execution_count": 34,
   "id": "3ac98561",
   "metadata": {},
   "outputs": [
    {
     "name": "stdout",
     "output_type": "stream",
     "text": [
      "what up nigggggga!\n"
     ]
    }
   ],
   "source": [
    "print('what up nigggggga!')"
   ]
  },
  {
   "cell_type": "code",
   "execution_count": null,
   "id": "e7231771",
   "metadata": {},
   "outputs": [],
   "source": []
  }
 ],
 "metadata": {
  "kernelspec": {
   "display_name": "Python 3",
   "language": "python",
   "name": "python3"
  },
  "language_info": {
   "codemirror_mode": {
    "name": "ipython",
    "version": 3
   },
   "file_extension": ".py",
   "mimetype": "text/x-python",
   "name": "python",
   "nbconvert_exporter": "python",
   "pygments_lexer": "ipython3",
   "version": "3.11.9"
  }
 },
 "nbformat": 4,
 "nbformat_minor": 5
}

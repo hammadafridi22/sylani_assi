{
 "cells": [
  {
   "cell_type": "code",
   "execution_count": null,
   "id": "387c46c8",
   "metadata": {},
   "outputs": [],
   "source": [
    "# Q1: Count vowels\n",
    "s = input(\"Enter a string: \")\n",
    "vowels = \"aeiouAEIOU\"\n",
    "count = sum(1 for ch in s if ch in vowels)\n",
    "print(\"Number of vowels:\", count)\n"
   ]
  },
  {
   "cell_type": "code",
   "execution_count": null,
   "id": "b126b8cd",
   "metadata": {},
   "outputs": [],
   "source": [
    "# Q2: Count uppercase, lowercase, digits, whitespace\n",
    "s = input(\"Enter a string: \")\n",
    "upper = sum(1 for ch in s if ch.isupper())\n",
    "lower = sum(1 for ch in s if ch.islower())\n",
    "digit = sum(1 for ch in s if ch.isdigit())\n",
    "space = sum(1 for ch in s if ch.isspace())\n",
    "print(\"Upper:\", upper, \"Lower:\", lower, \"Digits:\", digit, \"Spaces:\", space)"
   ]
  },
  {
   "cell_type": "code",
   "execution_count": null,
   "id": "afeedb20",
   "metadata": {},
   "outputs": [],
   "source": [
    "\n",
    "# Q3: Exchange first and last character\n",
    "s = input(\"Enter a string: \")\n",
    "if len(s) > 1:\n",
    "    s_new = s[-1] + s[1:-1] + s[0]\n",
    "else:\n",
    "    s_new = s\n",
    "print(\"New string:\", s_new)"
   ]
  },
  {
   "cell_type": "code",
   "execution_count": null,
   "id": "2473286b",
   "metadata": {},
   "outputs": [],
   "source": [
    "# Q4: Reverse string\n",
    "s = input(\"Enter a string: \")\n",
    "rev = \"\"\n",
    "for ch in s:\n",
    "    rev = ch + rev\n",
    "print(\"Reversed:\", rev)\n",
    "\n",
    "\n"
   ]
  },
  {
   "cell_type": "code",
   "execution_count": null,
   "id": "9b319c28",
   "metadata": {},
   "outputs": [],
   "source": [
    "# Q5: Shift one position left\n",
    "s = input(\"Enter a string: \")\n",
    "shifted = s[1:] + s[0]\n",
    "print(\"Shifted string:\", shifted)\n",
    "\n",
    "\n"
   ]
  },
  {
   "cell_type": "code",
   "execution_count": null,
   "id": "2667dbff",
   "metadata": {},
   "outputs": [],
   "source": [
    "# Q6: Print initials (without split)\n",
    "name = input(\"Enter full name (First Middle Last): \")\n",
    "initials = \"\"\n",
    "start = True\n",
    "for ch in name:\n",
    "    if start and ch != \" \":\n",
    "        initials += ch.upper() + \". \"\n",
    "        start = False\n",
    "    elif ch == \" \":\n",
    "        start = True\n",
    "print(\"Initials:\", initials)\n",
    "\n",
    "\n"
   ]
  },
  {
   "cell_type": "code",
   "execution_count": null,
   "id": "ccf1b031",
   "metadata": {},
   "outputs": [],
   "source": [
    "# Q7: Palindrome check\n",
    "s = input(\"Enter a string: \")\n",
    "rev = \"\"\n",
    "for ch in s:\n",
    "    rev = ch + rev\n",
    "if s == rev:\n",
    "    print(\"Palindrome\")\n",
    "else:\n",
    "    print(\"Not Palindrome\")\n",
    "\n",
    "\n"
   ]
  },
  {
   "cell_type": "code",
   "execution_count": null,
   "id": "9e322fdb",
   "metadata": {},
   "outputs": [],
   "source": [
    "# Q8: SHIFT pattern\n",
    "s = \"SHIFT\"\n",
    "for i in range(len(s)):\n",
    "    print(s[i:] + s[:i])\n",
    "\n"
   ]
  },
  {
   "cell_type": "code",
   "execution_count": null,
   "id": "58a1c299",
   "metadata": {},
   "outputs": [],
   "source": [
    "# Q9: Password validation\n",
    "pwd = input(\"Enter password: \")\n",
    "valid = (len(pwd) >= 8 and\n",
    "         any(ch.isupper() for ch in pwd) and\n",
    "         any(ch.islower() for ch in pwd) and\n",
    "         any(ch.isdigit() for ch in pwd))\n",
    "if valid:\n",
    "    print(\"Password is valid\")\n",
    "else:\n",
    "    print(\"Password invalid\")\n"
   ]
  }
 ],
 "metadata": {
  "language_info": {
   "name": "python"
  }
 },
 "nbformat": 4,
 "nbformat_minor": 5
}

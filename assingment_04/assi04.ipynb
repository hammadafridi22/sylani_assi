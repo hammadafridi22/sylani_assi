{
 "cells": [
  {
   "cell_type": "code",
   "execution_count": null,
   "id": "88fe7ab4",
   "metadata": {},
   "outputs": [],
   "source": [
    "# Q1: Print alternate elements of list\n",
    "lst = list(map(int, input(\"Enter numbers separated by space: \").split()))\n",
    "print(\"Alternate elements:\", lst[::2])"
   ]
  },
  {
   "cell_type": "code",
   "execution_count": null,
   "id": "37c4c6d3",
   "metadata": {},
   "outputs": [],
   "source": [
    "# Q2: Reverse list without using reverse()\n",
    "lst = list(map(int, input(\"Enter numbers separated by space: \").split()))\n",
    "rev = []\n",
    "for i in range(len(lst)-1, -1, -1):\n",
    "    rev.append(lst[i])\n",
    "print(\"Reversed list:\", rev)"
   ]
  },
  {
   "cell_type": "code",
   "execution_count": null,
   "id": "178cb57f",
   "metadata": {},
   "outputs": [],
   "source": [
    "# Q3: Largest number without max()\n",
    "lst = list(map(int, input(\"Enter numbers separated by space: \").split()))\n",
    "largest = lst[0]\n",
    "for num in lst:\n",
    "    if num > largest:\n",
    "        largest = num\n",
    "print(\"Largest element:\", largest)\n"
   ]
  },
  {
   "cell_type": "code",
   "execution_count": null,
   "id": "b23547b3",
   "metadata": {},
   "outputs": [],
   "source": [
    "# Q4: Rotate list\n",
    "lst = list(map(int, input(\"Enter numbers separated by space: \").split()))\n",
    "rotated = [lst[-1]] + lst[:-1]\n",
    "print(\"Rotated list:\", rotated)\n"
   ]
  },
  {
   "cell_type": "code",
   "execution_count": null,
   "id": "a6c86d47",
   "metadata": {},
   "outputs": [],
   "source": [
    "# Q5: Delete a word from string\n",
    "s = input(\"Enter a string: \")\n",
    "word = input(\"Enter word to delete: \")\n",
    "new_s = s.replace(word, \"\")\n",
    "print(\"After deletion:\", new_s)\n",
    "\n",
    "\n",
    "\n"
   ]
  },
  {
   "cell_type": "code",
   "execution_count": null,
   "id": "d4c6012f",
   "metadata": {},
   "outputs": [],
   "source": [
    "# Q6: Convert date format\n",
    "date = input(\"Enter date (mm/dd/yyyy): \")\n",
    "months = [\"January\",\"February\",\"March\",\"April\",\"May\",\"June\",\"July\",\n",
    "          \"August\",\"September\",\"October\",\"November\",\"December\"]\n",
    "m, d, y = date.split(\"/\")\n",
    "print(f\"{months[int(m)-1]} {int(d)}, {y}\")\n",
    "\n"
   ]
  },
  {
   "cell_type": "code",
   "execution_count": null,
   "id": "9cfcd62b",
   "metadata": {},
   "outputs": [],
   "source": [
    "# Q7: Capitalize each word\n",
    "s = input(\"Enter a sentence: \")\n",
    "words = s.split()\n",
    "new_s = \" \".join([w.capitalize() for w in words])\n",
    "print(\"Capitalized:\", new_s)\n",
    "\n"
   ]
  },
  {
   "cell_type": "code",
   "execution_count": null,
   "id": "ec93e33b",
   "metadata": {},
   "outputs": [],
   "source": [
    "# Q8: Sum of each row of matrix\n",
    "m = int(input(\"Enter rows: \"))\n",
    "n = int(input(\"Enter cols: \"))\n",
    "matrix = []\n",
    "for i in range(m):\n",
    "    row = list(map(int, input(f\"Enter row {i+1}: \").split()))\n",
    "    matrix.append(row)\n",
    "    print(f\"Sum of row {i+1} = {sum(row)}\")\n",
    "\n",
    "\n"
   ]
  },
  {
   "cell_type": "code",
   "execution_count": null,
   "id": "04b083da",
   "metadata": {},
   "outputs": [],
   "source": [
    "# Q9: Add two matrices\n",
    "m, n = map(int, input(\"Enter rows and cols: \").split())\n",
    "A, B = [], []\n",
    "print(\"Enter first matrix:\")\n",
    "for i in range(m): A.append(list(map(int, input().split())))\n",
    "print(\"Enter second matrix:\")\n",
    "for i in range(m): B.append(list(map(int, input().split())))\n",
    "C = [[A[i][j] + B[i][j] for j in range(n)] for i in range(m)]\n",
    "print(\"Sum of matrices:\", C)\n",
    "\n"
   ]
  },
  {
   "cell_type": "code",
   "execution_count": null,
   "id": "d85e2d69",
   "metadata": {},
   "outputs": [],
   "source": [
    "# Q10: Multiply two matrices\n",
    "m, n = map(int, input(\"Enter rows and cols of first matrix: \").split())\n",
    "A = [list(map(int, input().split())) for _ in range(m)]\n",
    "p, q = map(int, input(\"Enter rows and cols of second matrix: \").split())\n",
    "B = [list(map(int, input().split())) for _ in range(p)]\n",
    "if n != p:\n",
    "    print(\"Matrix multiplication not possible\")\n",
    "else:\n",
    "    C = [[sum(A[i][k] * B[k][j] for k in range(n)) for j in range(q)] for i in range(m)]\n",
    "    print(\"Product of matrices:\")\n",
    "    for row in C:\n",
    "        print(row)\n"
   ]
  }
 ],
 "metadata": {
  "language_info": {
   "name": "python"
  }
 },
 "nbformat": 4,
 "nbformat_minor": 5
}
